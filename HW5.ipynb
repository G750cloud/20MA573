{
  "nbformat": 4,
  "nbformat_minor": 0,
  "metadata": {
    "colab": {
      "name": "Copy of HW5(1).ipynb",
      "provenance": [],
      "authorship_tag": "ABX9TyMez4bIkL5tkTyIoRRtlgGa",
      "include_colab_link": true
    },
    "kernelspec": {
      "name": "python3",
      "display_name": "Python 3"
    }
  },
  "cells": [
    {
      "cell_type": "markdown",
      "metadata": {
        "id": "view-in-github",
        "colab_type": "text"
      },
      "source": [
        "<a href=\"https://colab.research.google.com/github/G750cloud/20MA573/blob/master/HW5.ipynb\" target=\"_parent\"><img src=\"https://colab.research.google.com/assets/colab-badge.svg\" alt=\"Open In Colab\"/></a>"
      ]
    },
    {
      "cell_type": "markdown",
      "metadata": {
        "id": "JR4T55p4WP1M",
        "colab_type": "text"
      },
      "source": [
        "Example 1:"
      ]
    },
    {
      "cell_type": "code",
      "metadata": {
        "id": "K64QnjIz-2Cs",
        "colab_type": "code",
        "outputId": "0f20eef5-dfaa-4497-d5d4-b28ff5bfec36",
        "colab": {
          "base_uri": "https://localhost:8080/",
          "height": 34
        }
      },
      "source": [
        "import numpy as np\n",
        "N=10000\n",
        "n=0\n",
        "for i in list(range(N)):\n",
        "    x=np.random.sample(1)\n",
        "    y=np.random.sample(1)\n",
        "    if np.square(x[0])+np.square(y[0])<1:\n",
        "        n=n+1\n",
        "result = 4*n/N\n",
        "print(result)"
      ],
      "execution_count": 0,
      "outputs": [
        {
          "output_type": "stream",
          "text": [
            "3.1372\n"
          ],
          "name": "stdout"
        }
      ]
    },
    {
      "cell_type": "markdown",
      "metadata": {
        "id": "55ApJnVBiHn5",
        "colab_type": "text"
      },
      "source": [
        "Example 4:"
      ]
    },
    {
      "cell_type": "code",
      "metadata": {
        "id": "CgXfppFcysgt",
        "colab_type": "code",
        "outputId": "1cb5991f-b886-4425-808b-4fec5f3e73cb",
        "colab": {
          "base_uri": "https://localhost:8080/",
          "height": 300
        }
      },
      "source": [
        "import numpy as np\n",
        "import matplotlib.pyplot as plt\n",
        "\n",
        "def pi(N):\n",
        "    n=0\n",
        "    for i in list(range(N)):\n",
        "        x=np.random.sample(1)\n",
        "        y=np.random.sample(1)\n",
        "        if np.square(x[0])+np.square(y[0])<1:\n",
        "           n=n+1\n",
        "    result = 4*n/N\n",
        "    return(result)\n",
        "\n",
        "def belta(N):\n",
        "    sum1=0\n",
        "    sum2=0\n",
        "    x=pi(N)\n",
        "    glist=[]\n",
        "    for i in list(range(1000)):\n",
        "        glist.append(x)\n",
        "        sum1=sum1 + glist[i]\n",
        "    ave=sum1/N \n",
        "    for i in list(range(1000)):\n",
        "        sum2=sum2 + np.square((glist[i] - ave))\n",
        "        result2 = sum2/N\n",
        "    return result2\n",
        "\n",
        "\n",
        "x_co=[np.power(2,5),np.power(2,6),np.power(2,7),np.power(2,8),np.power(2,9),np.power(2,10)]\n",
        "y_co=[belta(i) for i in x_co]\n",
        "plt.xlabel('experiment times')\n",
        "plt.ylabel('belta')\n",
        "plt.loglog(x_co,y_co)\n",
        "\n",
        "\n",
        "\n",
        "\n",
        "\n"
      ],
      "execution_count": 7,
      "outputs": [
        {
          "output_type": "execute_result",
          "data": {
            "text/plain": [
              "[<matplotlib.lines.Line2D at 0x7fa3df8371d0>]"
            ]
          },
          "metadata": {
            "tags": []
          },
          "execution_count": 7
        },
        {
          "output_type": "display_data",
          "data": {
            "image/png": "[encoded data removed]",
            "text/plain": [
              "<Figure size 432x288 with 1 Axes>"
            ]
          },
          "metadata": {
            "tags": []
          }
        }
      ]
    },
    {
      "cell_type": "markdown",
      "metadata": {
        "id": "44PK6RExNvsJ",
        "colab_type": "text"
      },
      "source": [
        "Example 2(Integration):(Assuming taking 10000 i.i.d to estimate alphaN)"
      ]
    },
    {
      "cell_type": "code",
      "metadata": {
        "id": "aIRHOrEc0OAA",
        "colab_type": "code",
        "outputId": "3646230e-0b60-45d9-be4b-85913f121af5",
        "colab": {
          "base_uri": "https://localhost:8080/",
          "height": 300
        }
      },
      "source": [
        "import numpy as np\n",
        "import matplotlib.pyplot as plt\n",
        "\n",
        "def MCintegral(N):\n",
        "    g=np.random.uniform(0,1,1)\n",
        "    sum3=0\n",
        "    for i in list(range(N)):\n",
        "        sum3=sum3+g\n",
        "    result=sum3/N\n",
        "    return(result)\n",
        "\n",
        "def belta(N):\n",
        "    sum4=0\n",
        "    sum5=0\n",
        "    x=MCintegral(N)\n",
        "    glist=[]\n",
        "    for i in list(range(10000)):\n",
        "        glist.append(x)\n",
        "        sum4=sum4 + glist[i]\n",
        "    ave=sum4/N \n",
        "    for i in list(range(10000)):\n",
        "        sum5=sum5 + np.square((glist[i] - ave))\n",
        "        result2 = sum5/N\n",
        "    return result2\n",
        "\n",
        "x_co=[np.power(2,5),np.power(2,6),np.power(2,7),np.power(2,8),np.power(2,9),np.power(2,10)]\n",
        "y_co=[belta(i) for i in x_co]\n",
        "plt.xlabel('experiment times')\n",
        "plt.ylabel('belta')\n",
        "plt.loglog(x_co,y_co)\n"
      ],
      "execution_count": 11,
      "outputs": [
        {
          "output_type": "execute_result",
          "data": {
            "text/plain": [
              "[<matplotlib.lines.Line2D at 0x7fa3df2456a0>]"
            ]
          },
          "metadata": {
            "tags": []
          },
          "execution_count": 11
        },
        {
          "output_type": "display_data",
          "data": {
            "image/png": "[encoded data removed]",
            "text/plain": [
              "<Figure size 432x288 with 1 Axes>"
            ]
          },
          "metadata": {
            "tags": []
          }
        }
      ]
    },
    {
      "cell_type": "code",
      "metadata": {
        "id": "bqebIsXQYua6",
        "colab_type": "code",
        "colab": {}
      },
      "source": [
        ""
      ],
      "execution_count": 0,
      "outputs": []
    }
  ]
}