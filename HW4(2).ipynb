{
  "nbformat": 4,
  "nbformat_minor": 0,
  "metadata": {
    "colab": {
      "name": "Copy of 20bsm_calibration_v01hw.ipynb",
      "provenance": [],
      "include_colab_link": true
    },
    "kernelspec": {
      "display_name": "Python 3",
      "language": "python",
      "name": "python3"
    },
    "language_info": {
      "codemirror_mode": {
        "name": "ipython",
        "version": 3
      },
      "file_extension": ".py",
      "mimetype": "text/x-python",
      "name": "python",
      "nbconvert_exporter": "python",
      "pygments_lexer": "ipython3",
      "version": "3.6.4"
    }
  },
  "cells": [
    {
      "cell_type": "markdown",
      "metadata": {
        "id": "view-in-github",
        "colab_type": "text"
      },
      "source": [
        "<a href=\"https://colab.research.google.com/github/G750cloud/20MA573/blob/master/HW4(2).ipynb\" target=\"_parent\"><img src=\"https://colab.research.google.com/assets/colab-badge.svg\" alt=\"Open In Colab\"/></a>"
      ]
    },
    {
      "cell_type": "markdown",
      "metadata": {
        "colab_type": "text",
        "id": "VBlkqbgUvQ6k"
      },
      "source": [
        "# Volatility calibration to BSM"
      ]
    },
    {
      "cell_type": "markdown",
      "metadata": {
        "colab_type": "text",
        "id": "gxxtEM40t092"
      },
      "source": [
        "## Abstract\n",
        "\n",
        "- Goal\n",
        "    - Calibrate BSM model for makert price of options\n"
      ]
    },
    {
      "cell_type": "markdown",
      "metadata": {
        "colab_type": "text",
        "id": "Y0jFTVYPt1Ot"
      },
      "source": [
        "## Problem\n",
        "\n",
        "All of pricing models require a set of model parameters in order to fully define the dynamics of each model. The process of adjusting model parameters such that the model prices are compatible with market prices is called **Calibration**. \n",
        "\n",
        "Input:\n",
        "\n",
        "- market prices of several options with different strikes and maturities\n",
        "- spot price\n",
        "- interest rates\n",
        "\n",
        "Output:\n",
        "\n",
        "- Find volatility of BSM model"
      ]
    },
    {
      "cell_type": "markdown",
      "metadata": {
        "colab_type": "text",
        "id": "imn9O8Qcu1iW"
      },
      "source": [
        "## Anal\n",
        "\n",
        "\n",
        "Suppose\n",
        "- Model prameter $\\theta = (\\theta_1, ... \\theta_m)$ is a vector\n",
        "- Prices of $n$ instruments are aviable in the market with its market price of $i$th instrument quoted by $C_i$. \n",
        "Let's denote $C = (C_1, ..., C_n)$ as a market price vector.\n",
        "- In theory, $C_i^\\theta$ is the model price of the $i$th instrument, and they are denoted as a vector $C^\\theta = (C_1^\\theta, ...,  C^\\theta_n)$. \n",
        "\n",
        "Given a distance function $H: \\mathbb R^n \\times \\mathbb R^n \\mapsto \\mathbb R^+$, calibration is to find the parameter $\\theta^*$  which minimize the objective function $H(C^\\theta, C)$, i.e.\n",
        "$$ \\theta^* = \\arg\\min_\\theta H(C^\\theta, C).$$\n",
        "\n",
        "Commonly used distance functions for $H$ are \n",
        "- $H(x, y) = (\\sum_{i=1}^n w_i |x_i - y_i|^p)^{1/p}.$\n",
        "- $H(x, y) = (\\sum_{i=1}^n w_i | \\frac{x_i - y_i}{y_i}|^p)^{1/p}.$ If $p = 2$, $w_i =1$, then $H^2$ is called as SSRE (sum of squred relative errors)\n",
        "- $H(x, y) = (\\sum_{i=1}^n w_i |\\ln x - \\ln y|^p)^{1/p}.$\n",
        "\n",
        "In this below, we are goint to use, the first case of $H$ with $p = 2$ and $w_i = 1$ for all i's."
      ]
    },
    {
      "cell_type": "markdown",
      "metadata": {
        "id": "I7Id5NE-hOaZ",
        "colab_type": "text"
      },
      "source": [
        "# Hw Tasks"
      ]
    },
    {
      "cell_type": "markdown",
      "metadata": {
        "id": "ipfXGogphZ79",
        "colab_type": "text"
      },
      "source": [
        "## Task-1\n",
        "\n",
        "- Upload data from [here](https://github.com/songqsh/20s_ma573/blob/master/src/20optiondata2.dat) to your cloud platform\n",
        "- Calibration/Performance:\n",
        "  - Filter out 2-mon options and calibrate volatility using the distance function\n",
        "$$H(x, y) = (\\sum_{i=1}^n w_i |x_i - y_i|^2)^{1/2}.$$\n",
        "  - Calibrated price for option means the computed option price using calibrated volatility and other parameters given by the market. Compare the market price and calibrated price using a plot of two curves: strike vs market (calibrated) price\n",
        "- Do the same thing for the filter from 5-mon options.\n",
        "- Which calibrated volatility is bigger, 2-mon or 5-mon?\n"
      ]
    },
    {
      "cell_type": "code",
      "metadata": {
        "id": "V26tUJVgv62f",
        "colab_type": "code",
        "outputId": "a4fd34ed-680b-4e54-a3cb-b81e18b5233c",
        "colab": {
          "base_uri": "https://localhost:8080/",
          "height": 615
        }
      },
      "source": [
        "import numpy as np\n",
        "import scipy.stats as ss\n",
        "import matplotlib.pyplot as plt\n",
        "import scipy.optimize as so\n",
        "from scipy.optimize import leastsq\n",
        "\n",
        "#P1#\n",
        "!git clone https://github.com/songqsh/20s_MA573.git\n",
        "%cd 20s_MA573/src/\n",
        "%ls 20optiondata2.dat\n",
        "np_option_data1 = np.loadtxt('20optiondata2.dat', comments='#', delimiter=',')\n",
        "print('>>>>>>otype, maturity, strike, option_price')\n",
        "print(np_option_data1)\n",
        "\n",
        "#P2#\n",
        "class VanillaOption:\n",
        "    def __init__(\n",
        "        self,\n",
        "        otype = 1, # 1: 'call'\n",
        "                  # -1: 'put'\n",
        "        strike = 110.,\n",
        "        maturity = 1.,\n",
        "        market_price = 10.):\n",
        "      self.otype = otype\n",
        "      self.strike = strike\n",
        "      self.maturity = maturity\n",
        "      self.market_price = market_price #this will be used for calibration\n",
        "    \n",
        "    def explain_yourself(self):\n",
        "      if self.otype==1:\n",
        "        print('I am call')\n",
        "      elif self.otype==-1:\n",
        "        print('I am put')\n",
        "\n",
        "        \n",
        "    def payoff(self, s): #s: excercise price\n",
        "      otype = self.otype\n",
        "      k = self.strike\n",
        "      maturity = self.maturity\n",
        "      return max([0, (s - k)*otype])\n",
        "\n",
        "\n",
        "\n",
        "class Gbm:\n",
        "    def __init__(self,\n",
        "                 init_state = 100.,\n",
        "                 drift_ratio = .0475,\n",
        "                 vol_ratio = .2\n",
        "                ):\n",
        "        self.init_state = init_state\n",
        "        self.drift_ratio = drift_ratio\n",
        "        self.vol_ratio = vol_ratio\n",
        "\n",
        "\n",
        "\n",
        "    def bsm_price(self, vanilla_option):\n",
        "        s0 = self.init_state\n",
        "        sigma = self.vol_ratio\n",
        "        r = self.drift_ratio\n",
        "        \n",
        "        otype = vanilla_option.otype\n",
        "        k = vanilla_option.strike\n",
        "        maturity = vanilla_option.maturity\n",
        "        \n",
        "        d1 = (np.log(s0 / k) + (r + 0.5 * sigma ** 2) \n",
        "              * maturity) / (sigma * np.sqrt(maturity))\n",
        "        d2 = d1 - sigma * np.sqrt(maturity)\n",
        "        \n",
        "        return (otype * s0 * ss.norm.cdf(otype * d1) #line break needs parenthesis\n",
        "                - otype * np.exp(-r * maturity) * k * ss.norm.cdf(otype * d2))\n",
        "\n",
        "gbm1 = Gbm(\n",
        "    init_state = 100, #market data\n",
        "    drift_ratio = .05, #market data\n",
        "    vol_ratio = .1 #initial guess\n",
        ")\n",
        "\n",
        "num_row = np_option_data1.shape[0]\n",
        "option_list1 = []\n",
        "\n",
        "for i in range(num_row):\n",
        "  option1 = VanillaOption(\n",
        "      otype = np_option_data1[i,0],\n",
        "      strike = np_option_data1[i,2],\n",
        "      maturity = np_option_data1[i,1],\n",
        "      market_price = np_option_data1[i,3]\n",
        "  )\n",
        "      \n",
        "  option_list1.append(option1) \n",
        "\n",
        "def H_function(vol, gbm, option_list):\n",
        "  gbm.vol_ratio = vol\n",
        "  H1 = 0\n",
        "  for i in np.arange(len(option_list)):\n",
        "    H1 = H1 + ((option_list[i]).market_price - gbm.bsm_price(option_list[i]))**2    \n",
        "  return H1\n",
        "\n",
        "def bsm_calibration(gbm, option_list):\n",
        "  init_vol = .1 #initial guess\n",
        "  return(so.leastsq(H_function, init_vol, args = (gbm, option_list))[0])\n",
        "\n",
        "filter1 = list(filter(lambda x: x.maturity == 2/12, option_list1))\n",
        "calibrated_volatility1 = bsm_calibration(gbm1, filter1)\n",
        "print('evaluated_volatility is ' + str(calibrated_volatility1))\n",
        "\n",
        "gbm1.vol_ratio = calibrated_volatility1\n",
        "filter1_calibrated_price = [gbm1.bsm_price(filter1[i]) for i in range(len(filter1))]\n",
        "print('evaluated vol option price:', filter1_calibrated_price)\n",
        "\n",
        "filter1_calibrated_price\n",
        "x_co = [filter1[i].strike for i in range(len(filter1))]\n",
        "y_co = [filter1[i].market_price for i in range(len(filter1))]\n",
        "plt.plot(x_co, y_co, 'o', label='2 months market price')\n",
        "\n",
        "y_co = filter1_calibrated_price\n",
        "plt.plot(x_co, y_co, label = '2 months evaluated price')\n",
        "\n",
        "plt.ylabel('option price')\n",
        "plt.xlabel('2-mon maturity')\n",
        "plt.legend();\n",
        "\n",
        "#P3#\n",
        "filter2 = list(filter(lambda x: x.maturity == 5/12, option_list1))\n",
        "calibrated_volatility2 = bsm_calibration(gbm1, filter2)\n",
        "print('evaluated_volatility is ' + str(calibrated_volatility1))\n",
        "\n",
        "gbm1.vol_ratio = calibrated_volatility2\n",
        "filter2_calibrated_price = [gbm1.bsm_price(filter2[i]) for i in range(len(filter1))]\n",
        "print('evaluated vol option price:', filter2_calibrated_price)\n",
        "\n",
        "filter2_calibrated_price\n",
        "x_co = [filter2[i].strike for i in range(len(filter2))]\n",
        "y_co = [filter2[i].market_price for i in range(len(filter2))]\n",
        "plt.plot(x_co, y_co, 'o', label='5 months market price')\n",
        "\n",
        "y_co = filter2_calibrated_price\n",
        "plt.plot(x_co, y_co, label = '5 months evaluated price')\n",
        "\n",
        "plt.ylabel('option price')\n",
        "plt.xlabel('maturity')\n",
        "plt.legend();\n",
        "\n"
      ],
      "execution_count": 8,
      "outputs": [
        {
          "output_type": "stream",
          "text": [
            "Cloning into '20s_MA573'...\n",
            "remote: Enumerating objects: 213, done.\u001b[K\n",
            "Receiving objects:   0% (1/213)   \rReceiving objects:   1% (3/213)   \rReceiving objects:   2% (5/213)   \rReceiving objects:   3% (7/213)   \rReceiving objects:   4% (9/213)   \rReceiving objects:   5% (11/213)   \rReceiving objects:   6% (13/213)   \rReceiving objects:   7% (15/213)   \rReceiving objects:   8% (18/213)   \rReceiving objects:   9% (20/213)   \rReceiving objects:  10% (22/213)   \rReceiving objects:  11% (24/213)   \rReceiving objects:  12% (26/213)   \rReceiving objects:  13% (28/213)   \rReceiving objects:  14% (30/213)   \rReceiving objects:  15% (32/213)   \rReceiving objects:  16% (35/213)   \rReceiving objects:  17% (37/213)   \rReceiving objects:  18% (39/213)   \rReceiving objects:  19% (41/213)   \rReceiving objects:  20% (43/213)   \rReceiving objects:  21% (45/213)   \rReceiving objects:  22% (47/213)   \rReceiving objects:  23% (49/213)   \rReceiving objects:  24% (52/213)   \rReceiving objects:  25% (54/213)   \rReceiving objects:  26% (56/213)   \rReceiving objects:  27% (58/213)   \rReceiving objects:  28% (60/213)   \rReceiving objects:  29% (62/213)   \rReceiving objects:  30% (64/213)   \rReceiving objects:  31% (67/213)   \rReceiving objects:  32% (69/213)   \rReceiving objects:  33% (71/213)   \rReceiving objects:  34% (73/213)   \rReceiving objects:  35% (75/213)   \rReceiving objects:  36% (77/213)   \rReceiving objects:  37% (79/213)   \rReceiving objects:  38% (81/213)   \rReceiving objects:  39% (84/213)   \rReceiving objects:  40% (86/213)   \rReceiving objects:  41% (88/213)   \rReceiving objects:  42% (90/213)   \rReceiving objects:  43% (92/213)   \rReceiving objects:  44% (94/213)   \rReceiving objects:  45% (96/213)   \rReceiving objects:  46% (98/213)   \rReceiving objects:  47% (101/213)   \rReceiving objects:  48% (103/213)   \rReceiving objects:  49% (105/213)   \rReceiving objects:  50% (107/213)   \rReceiving objects:  51% (109/213)   \rReceiving objects:  52% (111/213)   \rReceiving objects:  53% (113/213)   \rReceiving objects:  54% (116/213)   \rReceiving objects:  55% (118/213)   \rReceiving objects:  56% (120/213)   \rReceiving objects:  57% (122/213)   \rReceiving objects:  58% (124/213)   \rReceiving objects:  59% (126/213)   \rReceiving objects:  60% (128/213)   \rReceiving objects:  61% (130/213)   \rReceiving objects:  62% (133/213)   \rReceiving objects:  63% (135/213)   \rReceiving objects:  64% (137/213)   \rReceiving objects:  65% (139/213)   \rReceiving objects:  66% (141/213)   \rReceiving objects:  67% (143/213)   \rReceiving objects:  68% (145/213)   \rReceiving objects:  69% (147/213)   \rReceiving objects:  70% (150/213)   \rReceiving objects:  71% (152/213)   \rReceiving objects:  72% (154/213)   \rReceiving objects:  73% (156/213)   \rReceiving objects:  74% (158/213)   \rReceiving objects:  75% (160/213)   \rReceiving objects:  76% (162/213)   \rReceiving objects:  77% (165/213)   \rReceiving objects:  78% (167/213)   \rReceiving objects:  79% (169/213)   \rReceiving objects:  80% (171/213)   \rReceiving objects:  81% (173/213)   \rReceiving objects:  82% (175/213)   \rReceiving objects:  83% (177/213)   \rReceiving objects:  84% (179/213)   \rReceiving objects:  85% (182/213)   \rReceiving objects:  86% (184/213)   \rremote: Total 213 (delta 0), reused 0 (delta 0), pack-reused 213\n",
            "Receiving objects:  87% (186/213)   \rReceiving objects:  88% (188/213)   \rReceiving objects:  89% (190/213)   \rReceiving objects:  90% (192/213)   \rReceiving objects:  91% (194/213)   \rReceiving objects:  92% (196/213)   \rReceiving objects:  93% (199/213)   \rReceiving objects:  94% (201/213)   \rReceiving objects:  95% (203/213)   \rReceiving objects:  96% (205/213)   \rReceiving objects:  97% (207/213)   \rReceiving objects:  98% (209/213)   \rReceiving objects:  99% (211/213)   \rReceiving objects: 100% (213/213)   \rReceiving objects: 100% (213/213), 670.50 KiB | 11.17 MiB/s, done.\n",
            "Resolving deltas:   0% (0/109)   \rResolving deltas:   3% (4/109)   \rResolving deltas:  22% (24/109)   \rResolving deltas:  36% (40/109)   \rResolving deltas:  44% (48/109)   \rResolving deltas:  46% (51/109)   \rResolving deltas:  64% (70/109)   \rResolving deltas:  65% (71/109)   \rResolving deltas:  66% (72/109)   \rResolving deltas:  67% (74/109)   \rResolving deltas:  68% (75/109)   \rResolving deltas:  70% (77/109)   \rResolving deltas:  71% (78/109)   \rResolving deltas:  74% (81/109)   \rResolving deltas:  76% (83/109)   \rResolving deltas:  77% (85/109)   \rResolving deltas:  78% (86/109)   \rResolving deltas:  79% (87/109)   \rResolving deltas:  84% (92/109)   \rResolving deltas:  86% (94/109)   \rResolving deltas:  94% (103/109)   \rResolving deltas:  98% (107/109)   \rResolving deltas: 100% (109/109)   \rResolving deltas: 100% (109/109), done.\n",
            "/content/20s_MA573/src/20s_MA573/src/20s_MA573/src/20s_MA573/src/20s_MA573/src/20s_MA573/src/20s_MA573/src/20s_MA573/src\n",
            "20optiondata2.dat\n",
            ">>>>>>otype, maturity, strike, option_price\n",
            "[[  1.           0.16666667  97.           5.32705461]\n",
            " [  1.           0.16666667  99.           3.86224255]\n",
            " [  1.           0.16666667 101.           2.7204371 ]\n",
            " [  1.           0.16666667 103.           2.1202793 ]\n",
            " [  1.           0.41666667  97.           7.23756307]\n",
            " [  1.           0.41666667  99.           5.95053461]\n",
            " [  1.           0.41666667 101.           5.2640122 ]\n",
            " [  1.           0.41666667 103.           4.97493422]]\n",
            "evaluated_volatility is [0.18111844]\n",
            "evaluated vol option price: [array([5.18456528]), array([3.92289819]), array([2.87133546]), array([2.03009027])]\n",
            "evaluated_volatility is [0.18111844]\n",
            "evaluated vol option price: [array([7.53999113]), array([6.34016028]), array([5.27029551]), array([4.33036516])]\n"
          ],
          "name": "stdout"
        },
        {
          "output_type": "display_data",
          "data": {
            "image/png": "[encoded data removed]",
            "text/plain": [
              "<Figure size 432x288 with 1 Axes>"
            ]
          },
          "metadata": {
            "tags": []
          }
        }
      ]
    },
    {
      "cell_type": "markdown",
      "metadata": {
        "id": "DuovTMczlP_d",
        "colab_type": "text"
      },
      "source": [
        "## Task-2 (optional)\n",
        "Please discuss the validity of the following statements:\n",
        "- Given an underlying asset, options with shorter maturity can be better fitted than a longer maturity.\n",
        "- Suppose Assest1(ex. AAPL) is more liquid than Asset2 (ex. TAL). Then Asset1 can be fit better than Asset2."
      ]
    },
    {
      "cell_type": "code",
      "metadata": {
        "colab_type": "code",
        "id": "UOVUqxlEEqIG",
        "colab": {}
      },
      "source": [
        ""
      ],
      "execution_count": 0,
      "outputs": []
    },
    {
      "cell_type": "code",
      "metadata": {
        "id": "J0_ikDIrc-xj",
        "colab_type": "code",
        "colab": {}
      },
      "source": [
        ""
      ],
      "execution_count": 0,
      "outputs": []
    },
    {
      "cell_type": "code",
      "metadata": {
        "id": "4tO1FcoQc-xl",
        "colab_type": "code",
        "colab": {}
      },
      "source": [
        ""
      ],
      "execution_count": 0,
      "outputs": []
    }
  ]
}