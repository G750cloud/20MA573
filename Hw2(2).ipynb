{
  "nbformat": 4,
  "nbformat_minor": 0,
  "metadata": {
    "colab": {
      "name": "Copy of Hw2(2).ipynb",
      "provenance": [],
      "authorship_tag": "ABX9TyOMfZlUX0InNaxy2EC9WXKG",
      "include_colab_link": true
    },
    "kernelspec": {
      "name": "python3",
      "display_name": "Python 3"
    }
  },
  "cells": [
    {
      "cell_type": "markdown",
      "metadata": {
        "id": "view-in-github",
        "colab_type": "text"
      },
      "source": [
        "<a href=\"https://colab.research.google.com/github/G750cloud/20MA573/blob/master/Hw2(2).ipynb\" target=\"_parent\"><img src=\"https://colab.research.google.com/assets/colab-badge.svg\" alt=\"Open In Colab\"/></a>"
      ]
    },
    {
      "cell_type": "code",
      "metadata": {
        "id": "UTQWrsDEL-mI",
        "colab_type": "code",
        "colab": {}
      },
      "source": [
        "Problem 1"
      ],
      "execution_count": 0,
      "outputs": []
    },
    {
      "cell_type": "markdown",
      "metadata": {
        "id": "aF46ggHYMJuY",
        "colab_type": "text"
      },
      "source": [
        "$f(x+h)=f(x)+f'(x)h+\\frac{1}{2}f''(x)h^2+\\frac{1}{6}f'''(x)h^3+\\frac{1}{24}f''''(x)h^4+O(h^5)$                       （1）\n",
        "  $f(x-h)=f(x)-f'(x)h+\\frac{1}{2}f''(x)h^2-\\frac{1}{6}f'''(x)h^3+\\frac{1}{24}f''''(x)h^4-O(h^5)$                      （2）\n",
        "  $f(x+2h)=f(x)+f'(x)2h+f''(x)2h^2+\\frac{4}{3}f'''(x)h^3+\\frac{2}{3}f''''(x)h^4+O(h^5)$                                （3）\n",
        "  $f(x-2h)=f(x)-f'(x)2h+f''(x)2h^2-\\frac{4}{3}f'''(x)h^3+\\frac{2}{3}f''''(x)h^4-O(h^5)$                              （4）\n",
        "\n",
        "  SO let $\\frac{2}{3}((1)-(2))-\\frac{1}{12}((3)-(4))$, We can get:\n",
        "\n",
        "$O(h^4)=\\left|f'(x)-\\frac{\\frac{2}{3}(f(x+h)-f(x-h))-\\frac{1}{12}(f(x+2h)-f(x-2h))}{h}\\right|$\n",
        "\n",
        "So we get a difference approximation."
      ]
    },
    {
      "cell_type": "code",
      "metadata": {
        "id": "GrDe6WJyQisp",
        "colab_type": "code",
        "colab": {}
      },
      "source": [
        "Problem 2"
      ],
      "execution_count": 0,
      "outputs": []
    },
    {
      "cell_type": "markdown",
      "metadata": {
        "id": "3aYd8teDQl-Z",
        "colab_type": "text"
      },
      "source": [
        "(1)\n",
        "\n",
        "Since f(x) is an even function.\n",
        "   \n",
        "   So $f(x)=f(-x)$\\\n",
        "      $f'(x)=-f'(-x)$\\\n",
        "      $f'(0)=-f'(0)$\n",
        "   \n",
        "   That is $f'(0)=0$\n",
        "\n",
        "(2)\n",
        "\n",
        "Let f(x) be expanded at 0 by Tayler:\n",
        "   $f(0+h)=f(0)+f'(0)h+\\frac{1}{2}f''(0)h^2+\\frac{1}{6}f'''(0)h^3+O(h^4)$\n",
        "\n",
        "   That is: $f(h)=\\frac{1}{2}f''(0)h^2+O(h^4)$\n",
        "   \n",
        "   So $O(h^2)=\\left|\\frac{2f(h)}{h^2}-f''(h)\\right|$\n",
        "\n",
        "(3)\n",
        "\n",
        "$f(h)=\\frac{1}{2}f''(0)h^2+\\frac{1}{24}h^4f(0)+O(h^6)$\n",
        "\n",
        "$f(2h)=f''(0)2h^2+\\frac{2h^4}{3}f''''(0)+O(h^6)$\n",
        "\n",
        "Since $f''(0)-\\frac{C1f(h)+C2f(h)}{h^2}=O(h^2)$\n",
        "\n",
        "So we can get the system of equations:\n",
        "\n",
        "\\begin{equation}\n",
        "\\left\\{\n",
        "             \\begin{array}{lr}\n",
        "            1-\\frac{C1}{2}-2C2=0 &  \\\\\n",
        "             \\frac{C1}{24}+\\frac{2C2}{3}=0 &  \n",
        "             \\end{array}\n",
        "\\right.\n",
        "\\end{equation}\n",
        "\n",
        "So $C1=\\frac{8}{3},C2=-\\frac{1}{6}$\n",
        "\n",
        "(4)\n",
        "\n",
        "Since f(x) is an odd function.\n",
        "So the odd power of the function at zero is zero.\n",
        "So we are able to use the same above way to find the $f''(x)$ efficiently. \n",
        "\n",
        "\n",
        "\n",
        "\n"
      ]
    }
  ]
}