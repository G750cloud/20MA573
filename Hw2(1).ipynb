{
  "nbformat": 4,
  "nbformat_minor": 0,
  "metadata": {
    "kernelspec": {
      "display_name": "Python 3",
      "language": "python",
      "name": "python3"
    },
    "language_info": {
      "codemirror_mode": {
        "name": "ipython",
        "version": 3
      },
      "file_extension": ".py",
      "mimetype": "text/x-python",
      "name": "python",
      "nbconvert_exporter": "python",
      "pygments_lexer": "ipython3",
      "version": "3.7.4"
    },
    "colab": {
      "name": "Copy of 20fd2.ipynb",
      "provenance": [],
      "include_colab_link": true
    }
  },
  "cells": [
    {
      "cell_type": "markdown",
      "metadata": {
        "id": "view-in-github",
        "colab_type": "text"
      },
      "source": [
        "<a href=\"https://colab.research.google.com/github/G750cloud/20MA573/blob/master/Hw2(1).ipynb\" target=\"_parent\"><img src=\"https://colab.research.google.com/assets/colab-badge.svg\" alt=\"Open In Colab\"/></a>"
      ]
    },
    {
      "cell_type": "markdown",
      "metadata": {
        "id": "cCBBVM5WOD65",
        "colab_type": "text"
      },
      "source": [
        "# Abstract\n",
        "- Goal:\n",
        "    - Learn the second order derivative approximation: second order central finite difference\n",
        "    - Understand convergence rate\n"
      ]
    },
    {
      "cell_type": "markdown",
      "metadata": {
        "id": "IoeqeCGiOD68",
        "colab_type": "text"
      },
      "source": [
        "# Problem \n",
        "\n",
        "Let $f(x) = \\sin x$. Plot $f''$ and $\\delta_{-h} \\delta_h f$ with $h = .5$"
      ]
    },
    {
      "cell_type": "markdown",
      "metadata": {
        "id": "jOcRudwzOD69",
        "colab_type": "text"
      },
      "source": [
        "# Anal\n",
        "\n",
        "\n",
        "One of the commonly used FD for $f''$ is the following:\n",
        "$$f''(x) = \\frac{d}{dx} f'(x) \\simeq \\delta_h f'(x) \\simeq \\delta_h \\delta_{-h} f(x).$$\n",
        "If we write it explicitly, then\n",
        "$$f''(x) \\simeq \\frac{f(x+h) - 2 f(x) + f(x-h)}{h^2}.$$"
      ]
    },
    {
      "cell_type": "markdown",
      "metadata": {
        "id": "vkaJKAv2OD6_",
        "colab_type": "text"
      },
      "source": [
        "__Prop__\n",
        "\n",
        "The central finite difference for the second order has convergence order $1$.\n",
        "\n",
        "__Proof__ \n",
        "\n",
        "$f(x+h)=f(x)+f'(x)h+\\frac{1}{2}f''(x)h^2+\\frac{1}{6}f'''(x)h^3+O(h^4)$\n",
        "$f(x-h)=f(x)-f'(x)h+\\frac{1}{2}f''(x)h^2-\\frac{1}{6}f'''(x)h^3+O(h^4)$\n",
        "\n",
        "So add them and get:\n",
        "\n",
        "$f(x+h)+f(x-h)=2f(x)+f''(x)h^2+O(h^4)$\n",
        "\n",
        "That is:\n",
        "\n",
        "$O(h^2)=\\left|\\frac{f(x+h)+f(x-h)-2f(x)}{h^2}-f''(x)\\right|$\n",
        "\n",
        "\n",
        "\n",
        "\n",
        "\n"
      ]
    },
    {
      "cell_type": "markdown",
      "metadata": {
        "id": "0KOK9bTXOD7A",
        "colab_type": "text"
      },
      "source": [
        "# Code"
      ]
    },
    {
      "cell_type": "code",
      "metadata": {
        "id": "7ZZk81nuOD7B",
        "colab_type": "code",
        "colab": {}
      },
      "source": [
        "import numpy as np\n",
        "import matplotlib.pyplot as plt"
      ],
      "execution_count": 0,
      "outputs": []
    },
    {
      "cell_type": "code",
      "metadata": {
        "id": "tUSJHMGmOD7I",
        "colab_type": "code",
        "colab": {}
      },
      "source": [
        "def sfd(f, x, h):\n",
        "    # your input here;\n",
        "    return (f(x+h) + f(x-h) - 2*f(x))/(h*h)\n",
        "\n"
      ],
      "execution_count": 0,
      "outputs": []
    },
    {
      "cell_type": "code",
      "metadata": {
        "id": "GXd91DfKOD7M",
        "colab_type": "code",
        "outputId": "1a1a7288-3713-4c55-ce5e-8888d69c4c91",
        "colab": {
          "base_uri": "https://localhost:8080/",
          "height": 265
        }
      },
      "source": [
        "'''\n",
        "Remove all #s below to plot a figure:\n",
        "    x_cod: points at which the derivative to be computed\n",
        "    y_cod: estimated derivative by finite difference\n",
        "'''\n",
        "\n",
        "\n",
        "\n",
        "h = .5 #step size\n",
        "\n",
        "x_co = np.linspace(0, 2*np.pi, 100)\n",
        "plt.plot(x_co, - np.sin(x_co), label = '$-sin(x)$');\n",
        "plt.plot(x_co, sfd(np.sin, x_co, h), label = 'sfd');\n",
        "plt.legend();"
      ],
      "execution_count": 0,
      "outputs": [
        {
          "output_type": "display_data",
          "data": {
            "image/png": "[encoded data removed]",
            "text/plain": [
              "<Figure size 432x288 with 1 Axes>"
            ]
          },
          "metadata": {
            "tags": []
          }
        }
      ]
    },
    {
      "cell_type": "markdown",
      "metadata": {
        "id": "BtKDe8khOD7R",
        "colab_type": "text"
      },
      "source": [
        "plot log-log chart for the demonstration of convergence rate, find convergence order using linear regression."
      ]
    },
    {
      "cell_type": "code",
      "metadata": {
        "id": "dCs6u3RNOD7U",
        "colab_type": "code",
        "outputId": "6f5ae559-bdda-40dc-84e5-22b7163d8ad8",
        "colab": {
          "base_uri": "https://localhost:8080/",
          "height": 282
        }
      },
      "source": [
        "#your input here\n",
        "x_target = np.pi/3 #target point to be examined\n",
        "y_target = - np.sin(x_target) #exact derivative value at the target point\n",
        "nn = np.arange(5, 11)\n",
        "hh = 1/np.power(2, nn) #step sizes to be taken\n",
        "err = sfd(np.sin, x_target, hh) - y_target #errors corresponding to each step size\n",
        "yy = np.log2(np.abs(err))\n",
        "plt.plot(nn, yy)\n"
      ],
      "execution_count": 0,
      "outputs": [
        {
          "output_type": "execute_result",
          "data": {
            "text/plain": [
              "[<matplotlib.lines.Line2D at 0x7fbef9883c18>]"
            ]
          },
          "metadata": {
            "tags": []
          },
          "execution_count": 6
        },
        {
          "output_type": "display_data",
          "data": {
            "image/png": "[encoded data removed]",
            "text/plain": [
              "<Figure size 432x288 with 1 Axes>"
            ]
          },
          "metadata": {
            "tags": []
          }
        }
      ]
    },
    {
      "cell_type": "code",
      "metadata": {
        "id": "rh--8ZgBOD7b",
        "colab_type": "code",
        "outputId": "a146b878-a5bc-4b66-e566-e33ed42ae294",
        "colab": {
          "base_uri": "https://localhost:8080/",
          "height": 34
        }
      },
      "source": [
        "import scipy.stats as ss\n",
        "out = ss.linregress(nn,yy)\n",
        "print('the convergence order is ' + str(-out[0]))"
      ],
      "execution_count": 0,
      "outputs": [
        {
          "output_type": "stream",
          "text": [
            "the convergence order is 2.0005977409820144\n"
          ],
          "name": "stdout"
        }
      ]
    },
    {
      "cell_type": "code",
      "metadata": {
        "id": "A_SWOP4Z1eIT",
        "colab_type": "code",
        "colab": {}
      },
      "source": [
        ""
      ],
      "execution_count": 0,
      "outputs": []
    }
  ]
}