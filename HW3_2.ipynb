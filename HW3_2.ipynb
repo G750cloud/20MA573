{
  "nbformat": 4,
  "nbformat_minor": 0,
  "metadata": {
    "colab": {
      "name": "Copy of HW3-2.ipynb",
      "provenance": [],
      "authorship_tag": "ABX9TyPyMjYFA6uQyOyTkwfhNzGW",
      "include_colab_link": true
    },
    "kernelspec": {
      "name": "python3",
      "display_name": "Python 3"
    }
  },
  "cells": [
    {
      "cell_type": "markdown",
      "metadata": {
        "id": "view-in-github",
        "colab_type": "text"
      },
      "source": [
        "<a href=\"https://colab.research.google.com/github/G750cloud/20MA573/blob/master/HW3_2.ipynb\" target=\"_parent\"><img src=\"https://colab.research.google.com/assets/colab-badge.svg\" alt=\"Open In Colab\"/></a>"
      ]
    },
    {
      "cell_type": "markdown",
      "metadata": {
        "id": "QHT3b3-b2d3L",
        "colab_type": "text"
      },
      "source": [
        "**Consider** an european option with\n",
        "- call type\n",
        "- strike = 110\n",
        "- maturity = T\n",
        "underlying a Gbm stock with\n",
        "- initial: 100\n",
        "- interest rate: 4.75%\n",
        "- vol ratio: $\\sigma$\n",
        "\n",
        "We denote this bsm price by $f(\\sigma, T)$.\n",
        "\n",
        "- Let $\\sigma = 20\\%$ fixed. plot $T \\mapsto f(0.2, T)$ when $T$ is ranging over $(0.5, 2)$.\n",
        "\n",
        "- Let $T = 1$ fixed. plot $\\sigma \\mapsto f(\\sigma, 1)$ when $\\sigma$ is ranging over $(.05, 0.5)$\n",
        "\n",
        "- Describe your observations. Do you think the same behavior is also true for put?\n",
        "\n",
        "- Could you prove your observations?"
      ]
    },
    {
      "cell_type": "code",
      "metadata": {
        "id": "Ios3Ig8l2htO",
        "colab_type": "code",
        "outputId": "f2fe9509-e739-4804-ec76-ce789c3b2f96",
        "colab": {
          "base_uri": "https://localhost:8080/",
          "height": 542
        }
      },
      "source": [
        "import numpy as np\n",
        "import scipy.stats as ss\n",
        "import matplotlib.pyplot as plt\n",
        "class VanillaOption:\n",
        "    def __init__(\n",
        "        self,\n",
        "        otype = 1, # 1: 'call'\n",
        "                  # -1: 'put'\n",
        "        strike = 110.,\n",
        "        maturity = 1.,\n",
        "        market_price = 10.):\n",
        "      self.otype = otype\n",
        "      self.strike = strike\n",
        "      self.maturity = maturity\n",
        "      self.market_price = market_price #this will be used for calibration\n",
        "    \n",
        "    def explain_yourself(self):\n",
        "      if self.otype==1:\n",
        "        print('I am call')\n",
        "      elif self.otype==-1:\n",
        "        print('I am put')\n",
        "\n",
        "        \n",
        "    def payoff(self, s): #s: excercise price\n",
        "      otype = self.otype\n",
        "      k = self.strike\n",
        "      maturity = self.maturity\n",
        "      return max([0, (s - k)*otype])\n",
        "\n",
        "\n",
        "\n",
        "class Gbm:\n",
        "    def __init__(self,\n",
        "                 init_state = 100.,\n",
        "                 drift_ratio = .0475,\n",
        "                 vol_ratio = .2\n",
        "                ):\n",
        "        self.init_state = init_state\n",
        "        self.drift_ratio = drift_ratio\n",
        "        self.vol_ratio = vol_ratio\n",
        "\n",
        "\n",
        "\n",
        "    def bsm_price(self, vanilla_option):\n",
        "        s0 = self.init_state\n",
        "        sigma = self.vol_ratio\n",
        "        r = self.drift_ratio\n",
        "        \n",
        "        otype = vanilla_option.otype\n",
        "        k = vanilla_option.strike\n",
        "        maturity = vanilla_option.maturity\n",
        "        \n",
        "        d1 = (np.log(s0 / k) + (r + 0.5 * sigma ** 2) \n",
        "              * maturity) / (sigma * np.sqrt(maturity))\n",
        "        d2 = d1 - sigma * np.sqrt(maturity)\n",
        "        \n",
        "        return (otype * s0 * ss.norm.cdf(otype * d1) #line break needs parenthesis\n",
        "                - otype * np.exp(-r * maturity) * k * ss.norm.cdf(otype * d2))\n",
        "\n",
        "#calculating f when sigma=0.2#\n",
        "t=np.linspace(0.5, 2.1)\n",
        "o1=VanillaOption(otype=1, strike=110, maturity=t, market_price=10)\n",
        "gj1=Gbm()\n",
        "f1=gj1.bsm_price(o1)\n",
        "#ploting gragh f when sigma=0.2#\n",
        "plt.plot(t, f1)\n",
        "plt.xlabel('maturity')\n",
        "plt.ylabel('price of option')\n",
        "plt.show()\n",
        "#calculating f when t=1#\n",
        "sigma = np.arange(0.05, 0.53, 0.03)\n",
        "\n",
        "gj2 = Gbm(100., .0475, sigma)\n",
        "o2 = VanillaOption(otype=1, strike=110, maturity=1, market_price=10)\n",
        "f2 = gbm2.bsm_price(o2)\n",
        "#ploting gragh f when t=1#\n",
        "plt.plot(sigma, f2)\n",
        "plt.xlabel('sigma')\n",
        "plt.ylabel('price of option')\n",
        "plt.show()"
      ],
      "execution_count": 0,
      "outputs": [
        {
          "output_type": "display_data",
          "data": {
            "image/png": "[encoded data removed]",
            "text/plain": [
              "<Figure size 432x288 with 1 Axes>"
            ]
          },
          "metadata": {
            "tags": []
          }
        },
        {
          "output_type": "display_data",
          "data": {
            "image/png": "[encoded data removed]",
            "text/plain": [
              "<Figure size 432x288 with 1 Axes>"
            ]
          },
          "metadata": {
            "tags": []
          }
        }
      ]
    },
    {
      "cell_type": "markdown",
      "metadata": {
        "id": "453gWREpHGjc",
        "colab_type": "text"
      },
      "source": [
        "Observation:\n",
        "\n",
        "1:when sigma is fixed, the price of call option goes up with the increasing maturity. And the value of slope is almost constant.\n",
        "\n",
        "\n",
        "2:When maturity is fixed, the price of call option goes up with the increasing  value of sigma.And the value of slope is almost constant."
      ]
    }
  ]
}