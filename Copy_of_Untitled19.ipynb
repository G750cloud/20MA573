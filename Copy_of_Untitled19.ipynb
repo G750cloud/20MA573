{
  "nbformat": 4,
  "nbformat_minor": 0,
  "metadata": {
    "colab": {
      "name": "Copy of Untitled19.ipynb",
      "provenance": [],
      "include_colab_link": true
    },
    "kernelspec": {
      "name": "python3",
      "display_name": "Python 3"
    }
  },
  "cells": [
    {
      "cell_type": "markdown",
      "metadata": {
        "id": "view-in-github",
        "colab_type": "text"
      },
      "source": [
        "<a href=\"https://colab.research.google.com/github/G750cloud/20MA573/blob/master/Copy_of_Untitled19.ipynb\" target=\"_parent\"><img src=\"https://colab.research.google.com/assets/colab-badge.svg\" alt=\"Open In Colab\"/></a>"
      ]
    },
    {
      "cell_type": "code",
      "metadata": {
        "id": "eQpqB9-Aye0Z",
        "colab_type": "code",
        "colab": {}
      },
      "source": [
        "import numpy as np\n",
        "import scipy.stats as ss\n",
        "\n",
        "def Euler_CEV(S0,o_type,T,N,n,K,r,y,vol):\n",
        "  sum_value=0\n",
        "  w=T/N\n",
        "  for j in range(n):\n",
        "    S=S0\n",
        "    for i in range(N):\n",
        "      z=np.random.normal()\n",
        "      S=S+0.03*S*w+vol*(S**y)*np.sqrt(w)*z\n",
        "    if (S-K)*o_type >0 :\n",
        "      sum_value+=(S-K)*o_type\n",
        "  return np.exp(-r*T)*sum_value/n"
      ],
      "execution_count": 0,
      "outputs": []
    },
    {
      "cell_type": "code",
      "metadata": {
        "id": "shUnKb4gyjic",
        "colab_type": "code",
        "outputId": "422b1105-cb42-41ed-dcb5-616a1530f273",
        "colab": {
          "base_uri": "https://localhost:8080/",
          "height": 34
        }
      },
      "source": [
        "Euler_CEV(100,1,1,1000,1000,97,0.0475,1,0.2)"
      ],
      "execution_count": 0,
      "outputs": [
        {
          "output_type": "execute_result",
          "data": {
            "text/plain": [
              "10.418866201720734"
            ]
          },
          "metadata": {
            "tags": []
          },
          "execution_count": 2
        }
      ]
    },
    {
      "cell_type": "code",
      "metadata": {
        "id": "_PFScDPMysBx",
        "colab_type": "code",
        "outputId": "50bb9499-c71f-4ddf-965a-450a85e0253f",
        "colab": {
          "base_uri": "https://localhost:8080/",
          "height": 306
        }
      },
      "source": [
        "!git clone https://github.com/songqsh/20s_ma573.git\n",
        "%cd 20s_ma573/src/\n",
        "\n",
        "np_option_data = np.loadtxt('20optiondata2.dat', comments='#', delimiter=',')\n",
        "print('>>>otype,        maturity,  strike,       option_price')\n",
        "print(np_option_data)\n",
        "\n",
        "def maturity_choice(mat_choice):\n",
        "  option_data=np_option_data[np_option_data[:,1] == mat_choice]\n",
        "  return option_data\n",
        "\n",
        "op_list1=maturity_choice(5/12)"
      ],
      "execution_count": 0,
      "outputs": [
        {
          "output_type": "stream",
          "text": [
            "Cloning into '20s_ma573'...\n",
            "remote: Enumerating objects: 88, done.\u001b[K\n",
            "remote: Counting objects: 100% (88/88), done.\u001b[K\n",
            "remote: Compressing objects: 100% (68/68), done.\u001b[K\n",
            "remote: Total 301 (delta 49), reused 44 (delta 20), pack-reused 213\u001b[K\n",
            "Receiving objects: 100% (301/301), 2.15 MiB | 26.18 MiB/s, done.\n",
            "Resolving deltas: 100% (158/158), done.\n",
            "/content/20s_ma573/src\n",
            ">>>otype,        maturity,  strike,       option_price\n",
            "[[  1.           0.16666667  97.           5.32705461]\n",
            " [  1.           0.16666667  99.           3.86224255]\n",
            " [  1.           0.16666667 101.           2.7204371 ]\n",
            " [  1.           0.16666667 103.           2.1202793 ]\n",
            " [  1.           0.41666667  97.           7.23756307]\n",
            " [  1.           0.41666667  99.           5.95053461]\n",
            " [  1.           0.41666667 101.           5.2640122 ]\n",
            " [  1.           0.41666667 103.           4.97493422]]\n"
          ],
          "name": "stdout"
        }
      ]
    },
    {
      "cell_type": "code",
      "metadata": {
        "id": "3hdFothkyzUa",
        "colab_type": "code",
        "colab": {}
      },
      "source": [
        "import scipy.optimize as so\n",
        "\n",
        "def error_function(vol_y):\n",
        "  error=0\n",
        "  vol=vol_y[0]\n",
        "  y=vol_y[1]\n",
        "  a=0\n",
        "  for i in np.arange(len(op_list1)):\n",
        "    error+=((op_list1[i,3])-Euler_CEV(100,1,5/12,1000,1000,op_list1[i,2],0.0475,y,vol)) **2\n",
        "  return error\n",
        "\n",
        "initial_guess=[0.1,1]\n",
        "print(so.fmin(error_function,initial_guess,xtol=0.0001,ftol=0.0001,maxiter=None, maxfun=None))"
      ],
      "execution_count": 0,
      "outputs": []
    },
    {
      "cell_type": "markdown",
      "metadata": {
        "id": "2Q3sXK4zzLDA",
        "colab_type": "text"
      },
      "source": [
        ""
      ]
    }
  ]
}