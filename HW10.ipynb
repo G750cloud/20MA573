{
  "nbformat": 4,
  "nbformat_minor": 0,
  "metadata": {
    "colab": {
      "name": " HW10.ipynb",
      "provenance": [],
      "authorship_tag": "ABX9TyP0fukz19TXQpKgGtyYUL/d",
      "include_colab_link": true
    },
    "kernelspec": {
      "name": "python3",
      "display_name": "Python 3"
    }
  },
  "cells": [
    {
      "cell_type": "markdown",
      "metadata": {
        "id": "view-in-github",
        "colab_type": "text"
      },
      "source": [
        "<a href=\"https://colab.research.google.com/github/G750cloud/20MA573/blob/master/HW10.ipynb\" target=\"_parent\"><img src=\"https://colab.research.google.com/assets/colab-badge.svg\" alt=\"Open In Colab\"/></a>"
      ]
    },
    {
      "cell_type": "markdown",
      "metadata": {
        "id": "p2BSuIM8OGs0",
        "colab_type": "text"
      },
      "source": [
        "Generate a dataset with N(1,4)"
      ]
    },
    {
      "cell_type": "code",
      "metadata": {
        "id": "DXdeRBj3GhqZ",
        "colab_type": "code",
        "outputId": "b4aa1aa6-1e2a-44de-9d3c-1f926b8981ff",
        "colab": {
          "base_uri": "https://localhost:8080/",
          "height": 50
        }
      },
      "source": [
        "import numpy as np\n",
        "x = 1+2*np.random.randn(10000)\n",
        "print(x)"
      ],
      "execution_count": 0,
      "outputs": [
        {
          "output_type": "stream",
          "text": [
            "[-1.41856784  2.43073518  2.03301193 ... -1.91643388  2.3483102\n",
            "  2.65622641]\n"
          ],
          "name": "stdout"
        }
      ]
    },
    {
      "cell_type": "markdown",
      "metadata": {
        "id": "H_m4RezhOkWZ",
        "colab_type": "text"
      },
      "source": [
        "Write a code to implement SA on D. Claim alpha = 0.01 with N(1,4)."
      ]
    },
    {
      "cell_type": "code",
      "metadata": {
        "id": "QEh_jl_tOyiz",
        "colab_type": "code",
        "outputId": "a4c1d817-d7d3-49bb-d5ee-ca62aab644ed",
        "colab": {
          "base_uri": "https://localhost:8080/",
          "height": 50
        }
      },
      "source": [
        "import numpy as np\n",
        "\n",
        "b = 0\n",
        "alpha = 0.01\n",
        "for i in range(10000):\n",
        "    x = 1+2*np.random.randn()\n",
        "    b = b+alpha*(x-b)\n",
        "error = np.abs(b-1)\n",
        "print('b is equal to:', b)\n",
        "print('error is:', error)\n",
        "  \n"
      ],
      "execution_count": 0,
      "outputs": [
        {
          "output_type": "stream",
          "text": [
            "b is equal to: 0.8993157088262862\n",
            "error is: 0.1006842911737138\n"
          ],
          "name": "stdout"
        }
      ]
    },
    {
      "cell_type": "markdown",
      "metadata": {
        "id": "x1kFYULK0kkG",
        "colab_type": "text"
      },
      "source": [
        "h = 1/8 by Value iteration"
      ]
    },
    {
      "cell_type": "code",
      "metadata": {
        "id": "6guroWyc06bD",
        "colab_type": "code",
        "outputId": "b5d6adfc-19b0-4ed0-8c22-6c3ab5a19ed1",
        "colab": {
          "base_uri": "https://localhost:8080/",
          "height": 622
        }
      },
      "source": [
        "import numpy as np\n",
        "\n",
        "a = np.zeros([9,9])\n",
        "\n",
        "for i in range(9):\n",
        "    for j in range(9):\n",
        "        if i==0 or i==8 or j==0 or j==8:\n",
        "           a[i,j]=0\n",
        "        else:\n",
        "           a[i,j]=((i/8-0.5)**2+(j/8-0.5)**2)\n",
        "print('origina matrix is       ', a)\n",
        "\n",
        "def iteration_fun(u):\n",
        "  h = 1/8\n",
        "  N = 8\n",
        "  v = np.zeros([9,9])\n",
        "  gamma = 2/(2 + h**2)\n",
        "  error = 1\n",
        "  \n",
        "  while error>0.0001:\n",
        "    for i in range(0,9):\n",
        "      for j in range(0,9):\n",
        "        if i == 0 or i == 8 or j == 0 or j == 8:\n",
        "          v[i,j] = u[i,j]\n",
        "        else:\n",
        "          v[i,j]=(2/(2+h**2))*((h**2/2)*((i*h)**2+(j*h)**2-(i*h)-(j*h)-(3/2))+(1/4)*(u[i+1,j]+u[i,j+1]+u[i,j-1]+u[i-1,j]))\n",
        "    error = np.max(np.abs(u-v))\n",
        "    u=v\n",
        "  return u\n",
        "\n",
        "iteration_fun(a)"
      ],
      "execution_count": 0,
      "outputs": [
        {
          "output_type": "stream",
          "text": [
            "origina matrix is        [[0.       0.       0.       0.       0.       0.       0.       0.\n",
            "  0.      ]\n",
            " [0.       0.28125  0.203125 0.15625  0.140625 0.15625  0.203125 0.28125\n",
            "  0.      ]\n",
            " [0.       0.203125 0.125    0.078125 0.0625   0.078125 0.125    0.203125\n",
            "  0.      ]\n",
            " [0.       0.15625  0.078125 0.03125  0.015625 0.03125  0.078125 0.15625\n",
            "  0.      ]\n",
            " [0.       0.140625 0.0625   0.015625 0.       0.015625 0.0625   0.140625\n",
            "  0.      ]\n",
            " [0.       0.15625  0.078125 0.03125  0.015625 0.03125  0.078125 0.15625\n",
            "  0.      ]\n",
            " [0.       0.203125 0.125    0.078125 0.0625   0.078125 0.125    0.203125\n",
            "  0.      ]\n",
            " [0.       0.28125  0.203125 0.15625  0.140625 0.15625  0.203125 0.28125\n",
            "  0.      ]\n",
            " [0.       0.       0.       0.       0.       0.       0.       0.\n",
            "  0.      ]]\n"
          ],
          "name": "stdout"
        },
        {
          "output_type": "execute_result",
          "data": {
            "text/plain": [
              "array([[ 0.        ,  0.        ,  0.        ,  0.        ,  0.        ,\n",
              "         0.        ,  0.        ,  0.        ,  0.        ],\n",
              "       [ 0.        ,  0.04899232,  0.05164614,  0.03739869,  0.03278183,\n",
              "         0.04437712,  0.04978017,  0.03018291,  0.        ],\n",
              "       [ 0.        ,  0.05164614,  0.0498477 ,  0.03000007,  0.02381024,\n",
              "         0.04077613,  0.05846652,  0.03047581,  0.        ],\n",
              "       [ 0.        ,  0.03739869,  0.03000007,  0.00737407,  0.00010483,\n",
              "         0.0181352 ,  0.04202212,  0.02319138,  0.        ],\n",
              "       [ 0.        ,  0.03278183,  0.02381024,  0.00010483, -0.00769993,\n",
              "         0.01046166,  0.03687973,  0.02290212,  0.        ],\n",
              "       [ 0.        ,  0.04437712,  0.04077613,  0.0181352 ,  0.01046166,\n",
              "         0.02868834,  0.05478896,  0.03613755,  0.        ],\n",
              "       [ 0.        ,  0.04978017,  0.05846652,  0.04202212,  0.03687973,\n",
              "         0.05478896,  0.0749632 ,  0.03532402,  0.        ],\n",
              "       [ 0.        ,  0.03018291,  0.03047581,  0.02319138,  0.02290212,\n",
              "         0.03613755,  0.03532402,  0.00420145,  0.        ],\n",
              "       [ 0.        ,  0.        ,  0.        ,  0.        ,  0.        ,\n",
              "         0.        ,  0.        ,  0.        ,  0.        ]])"
            ]
          },
          "metadata": {
            "tags": []
          },
          "execution_count": 18
        }
      ]
    },
    {
      "cell_type": "markdown",
      "metadata": {
        "id": "kdgSF1xgB4vW",
        "colab_type": "text"
      },
      "source": [
        "h = 1/8 by Monte-Carlo Method"
      ]
    },
    {
      "cell_type": "code",
      "metadata": {
        "id": "DFcZ9etH2lFh",
        "colab_type": "code",
        "outputId": "d735cbe2-a947-4a5e-ffea-78d692a107c4",
        "colab": {
          "base_uri": "https://localhost:8080/",
          "height": 70
        }
      },
      "source": [
        "import numpy as np\n",
        "import random\n",
        "\n",
        "def is_interior(ix):\n",
        "    return all([0.<a<b-1 for a,b in zip(ix,[9,9])])\n",
        "\n",
        "def step(ix):\n",
        "    run_cost = 0.                \n",
        "    ix_next = []\n",
        "    if is_interior(ix):\n",
        "        run_cost = 1.\n",
        "        for i in list(range(2)):\n",
        "            ix1 = ix.copy(); ix1[i]+=1.; ix_next += [ix1,]\n",
        "        for i in list(range(2)):\n",
        "            ix1 = ix.copy(); ix1[i]-=1.; ix_next += [ix1,]     \n",
        "    return run_cost, ix_next\n",
        "\n",
        "def step_random(ix):\n",
        "    run_cost, ix_next = step(ix)\n",
        "    ix_next_rd = random.choices(ix_next)\n",
        "    return run_cost, ix_next_rd[0]\n",
        "\n",
        "                                      \n",
        "                                      \n",
        "def MonteCarlo(n,ix):                        # define the function of caculating the average value of random walking on 8*8 grid #\n",
        "                                             # n is simulation times #\n",
        "                                             #ix is the starting point#\n",
        "    gj = 0.\n",
        "    tot_cost = 0.\n",
        "    h = 1/8\n",
        "    RS = 0\n",
        "    RS_list = []\n",
        "    sum = 0\n",
        "\n",
        "    while gj<n:\n",
        "        while is_interior(ix):\n",
        "            run_cost, ix = step_random(ix)\n",
        "            #print(ix)#\n",
        "            RS = RS+h**2/(2+h**2)*((ix[0]/8)**2+(ix[1]/8)**2-ix[0]/8-ix[1]/8-3/2)\n",
        "            tot_cost+=run_cost\n",
        "        RS_list.append(RS)\n",
        "        #print(tot_cost)#\n",
        "        gj=gj+1.\n",
        "        ix=[2,2]\n",
        "        tot_cost = 0\n",
        "        RS=0\n",
        "    print('the list of the sum of RS in every random walking : ', RS_list)\n",
        "    \n",
        "    for i in range(n):                   #calculating average value by Monte Carlo Method#\n",
        "      sum = sum+RS_list[i]\n",
        "    return sum/n\n",
        "\n",
        "    \n",
        "        \n",
        "\n",
        "MonteCarlo(100,[2,2])        #Assuming the starting point is (2,2)#"
      ],
      "execution_count": 5,
      "outputs": [
        {
          "output_type": "stream",
          "text": [
            "the list of the sum of RS in every random walking :  [-0.2260174418604651, -0.22432170542635657, -0.04263565891472868, -0.40843023255813965, -0.4250242248062016, -0.5966569767441862, -0.0725532945736434, -0.12875484496124032, -0.02701065891472868, -0.03972868217054264, -0.02701065891472868, -0.09738372093023255, -0.2493943798449612, -0.3736676356589148, -0.14522771317829458, -0.0846656976744186, -0.1194282945736434, -0.02701065891472868, -0.3622819767441861, -0.13020833333333331, -0.35634689922480617, -0.04166666666666667, -0.04263565891472868, -0.11652131782945736, -0.23207364341085268, -0.08708817829457363, -0.02701065891472868, -0.19585755813953487, -0.05717054263565892, -0.04166666666666667, -0.07085755813953488, -0.2877906976744186, -0.0562015503875969, -0.140625, -0.18011143410852712, -0.05426356589147287, -0.13335755813953487, -0.6497093023255819, -0.10271317829457363, -0.09665697674418604, -0.02701065891472868, -0.14643895348837208, -0.5541424418604652, -0.03972868217054264, -0.04263565891472868, -0.16424418604651161, -0.26247577519379844, -0.13238856589147285, -0.08563468992248062, -0.06891957364341085, -0.02701065891472868, -0.29312015503875977, -0.5145348837209304, -0.09859496124031007, -0.11385658914728682, -0.02701065891472868, -0.02701065891472868, -0.13311531007751937, -0.4950339147286823, -0.19319282945736432, -0.15891472868217055, -0.04166666666666667, -0.02701065891472868, -0.05717054263565892, -0.5555959302325583, -0.157218992248062, -0.3343023255813954, -0.055232558139534885, -0.6395348837209306, -0.02701065891472868, -0.18665213178294573, -0.04166666666666667, -0.39510658914728697, -0.3080184108527132, -0.056443798449612406, -0.28948643410852715, -0.02701065891472868, -0.1297238372093023, -0.04263565891472868, -0.39752906976744196, -0.04166666666666667, -0.3997093023255814, -0.0725532945736434, -0.04166666666666667, -0.3307897286821706, -0.10973837209302324, -0.02701065891472868, -0.08733042635658914, -0.02701065891472868, -0.1299660852713178, -0.06916182170542635, -0.4639050387596901, -0.12996608527131784, -0.17562984496124032, -0.8759689922480626, -0.0849079457364341, -0.04263565891472868, -0.056443798449612406, -0.08636143410852712, -0.02701065891472868]\n"
          ],
          "name": "stdout"
        },
        {
          "output_type": "execute_result",
          "data": {
            "text/plain": [
              "-0.1743120155038759"
            ]
          },
          "metadata": {
            "tags": []
          },
          "execution_count": 5
        }
      ]
    },
    {
      "cell_type": "markdown",
      "metadata": {
        "id": "nfB6uaKpUViz",
        "colab_type": "text"
      },
      "source": [
        "h = 1/8 by TD "
      ]
    },
    {
      "cell_type": "code",
      "metadata": {
        "id": "j9MDZDCXR2R4",
        "colab_type": "code",
        "colab": {
          "base_uri": "https://localhost:8080/",
          "height": 70
        },
        "outputId": "580b2393-8056-4a69-cb96-fc9f5cc22d36"
      },
      "source": [
        "import numpy as np\n",
        "import random\n",
        "\n",
        "def is_interior(ix):\n",
        "    return all([0.<a<b-1 for a,b in zip(ix,[9,9])])\n",
        "\n",
        "def step(ix):\n",
        "    run_cost = 0.                \n",
        "    ix_next = []\n",
        "    if is_interior(ix):\n",
        "        run_cost = 1.\n",
        "        for i in list(range(2)):\n",
        "            ix1 = ix.copy(); ix1[i]+=1.; ix_next += [ix1,]\n",
        "        for i in list(range(2)):\n",
        "            ix1 = ix.copy(); ix1[i]-=1.; ix_next += [ix1,]     \n",
        "    return run_cost, ix_next\n",
        "\n",
        "def step_random(ix):\n",
        "    run_cost, ix_next = step(ix)\n",
        "    ix_next_rd = random.choices(ix_next)\n",
        "    return run_cost, ix_next_rd[0]\n",
        "\n",
        "                                      \n",
        "                                      \n",
        "def TD(n,ix):                        # define the function of caculating the average value of random walking on 8*8 grid #\n",
        "                                     # n is simulation times #\n",
        "                                     #ix is the starting point#\n",
        "    gj = 0.\n",
        "    tot_cost = 0.\n",
        "    h = 1/8\n",
        "    v = 0\n",
        "    v_list = []\n",
        "    sum = 0\n",
        "    alpha = 0.01                     #claim parameter alpha is equal to 0.01#\n",
        "\n",
        "    while gj<n:\n",
        "        while is_interior(ix):\n",
        "            run_cost, ix = step_random(ix)\n",
        "            #print(ix)#\n",
        "            v = v+h**2/(2+h**2)*alpha*(((ix[0]/8)**2+(ix[1]/8)**2-ix[0]/8-ix[1]/8-3/2)+2/(2+h**2)*v-v)\n",
        "            tot_cost+=run_cost\n",
        "        v_list.append(v)\n",
        "        #print(tot_cost)#\n",
        "        gj=gj+1.\n",
        "        ix=[2,2]\n",
        "        tot_cost = 0\n",
        "        v=0\n",
        "    print('the list of the sum of v for n times  : ', v_list)\n",
        "    \n",
        "    for i in range(n):                   #calculating average value of v#\n",
        "      sum = sum+v_list[i]\n",
        "    return sum/n\n",
        "\n",
        "TD(100,[2,2])"
      ],
      "execution_count": 11,
      "outputs": [
        {
          "output_type": "stream",
          "text": [
            "the list of the sum of v for n times  :  [-0.0018640920768131161, -0.0023667526974404315, -0.0016060997235250337, -0.0043107680830422575, -0.0007134196677423404, -0.0003972865742313432, -0.0004166664133696628, -0.004964825084575429, -0.0011409859410265043, -0.0008563456043538273, -0.0008369657623040685, -0.0005426351639666609, -0.0004263563242044449, -0.0004263563242044449, -0.005083524902657059, -0.00027010650544280056, -0.0008369657797727991, -0.002204448027311957, -0.0009520331412136275, -0.00027010650544280056, -0.0005426351639666609, -0.0035925138609900244, -0.0021996030631601503, -0.002291656333922551, -0.00027010650544280056, -0.00027010650544280056, -0.0018883167519993178, -0.003169795771178655, -0.00152131317112921, -0.001145830896443926, -0.0030196038600718627, -0.0008636130374799139, -0.0003972865742313432, -0.0004263563242044449, -0.002175378373416702, -0.0008442332099874281, -0.006866427812007059, -0.003570711654777898, -0.0025302687199702557, -0.0033938730340418886, -0.0008151634949518196, -0.0022092929769063647, -0.00027010650544280056, -0.00027010650544280056, -0.000681927450250639, -0.001620634633448907, -0.00027010650544280056, -0.004305921940490366, -0.0036094709516551974, -0.0008563455927080103, -0.0005644374575220068, -0.0011724781163021203, -0.0004166664133696628, -0.005259149515052955, -0.0004263563242044449, -0.00208695881848974, -0.0005620149798133112, -0.00395830159275249, -0.0033744927523648004, -0.0007255320519186327, -0.0005547475525101385, -0.0003972865742313432, -0.002692573281648249, -0.0004166664133696628, -0.0010198624675623917, -0.001246363211850564, -0.0010125950475378532, -0.0016085222696527973, -0.0012972352248087553, -0.0008369657797727991, -0.0005547475525101385, -0.0011676331667076312, -0.0003972865742313432, -0.0012681655680021919, -0.0007134196677423404, -0.0005426351639666609, -0.004855815175139796, -0.00027010650544280056, -0.0010198624762967547, -0.0032012876902467046, -0.0040382433294797355, -0.0017780948212692315, -0.000990792714677836, -0.0024236800734531326, -0.0008829928329463783, -0.0008660354802511328, -0.005389962461181976, -0.002936029529140724, -0.000681927450250639, -0.0005620149798133112, -0.009158022483031754, -0.0019319212313863325, -0.00027010650544280056, -0.0005426351639666609, -0.007479298610017265, -0.0008781478804404442, -0.001868936854632037, -0.006864005677848553, -0.005130760968171357, -0.001157943244227022]\n"
          ],
          "name": "stdout"
        },
        {
          "output_type": "execute_result",
          "data": {
            "text/plain": [
              "-0.0018582716515989463"
            ]
          },
          "metadata": {
            "tags": []
          },
          "execution_count": 11
        }
      ]
    },
    {
      "cell_type": "markdown",
      "metadata": {
        "id": "I1p9NOvBWRuz",
        "colab_type": "text"
      },
      "source": [
        "By comparing three methods discussed above, I prefer iteration value method according to my observation for the answer from it being more complete and concise. However, Monte Calo Method and TD Method is easier to implement. "
      ]
    }
  ]
}