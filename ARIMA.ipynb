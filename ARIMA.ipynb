{
  "nbformat": 4,
  "nbformat_minor": 0,
  "metadata": {
    "colab": {
      "name": "Untitled2.ipynb",
      "provenance": [],
      "authorship_tag": "ABX9TyO0GrYMhMumOLIyhd6GjNXU",
      "include_colab_link": true
    },
    "kernelspec": {
      "name": "python3",
      "display_name": "Python 3"
    }
  },
  "cells": [
    {
      "cell_type": "markdown",
      "metadata": {
        "id": "view-in-github",
        "colab_type": "text"
      },
      "source": [
        "<a href=\"https://colab.research.google.com/github/G750cloud/20MA573/blob/master/ARIMA.ipynb\" target=\"_parent\"><img src=\"https://colab.research.google.com/assets/colab-badge.svg\" alt=\"Open In Colab\"/></a>"
      ]
    },
    {
      "cell_type": "code",
      "metadata": {
        "id": "m9Gz-waif1UL"
      },
      "source": [
        "import numpy as np\n",
        "import pandas as pd\n",
        "import os\n",
        "import matplotlib.pyplot as plt\n",
        "import seaborn as sns \n",
        "from statsmodels.tsa.stattools import adfuller\n",
        "from statsmodels.tsa.arima_model import ARIMA\n",
        "\n",
        "data = pd.read_csv('C:/Users/Jing Guo/Desktop/AAPL.csv',index_col=0)\n",
        "data.head()\n",
        "data.index.sort_values()\n",
        "data.index = pd.to_datetime(data.index, format=\"%Y/%m/%d\")\n",
        "print(data)\n",
        "data_final = data.drop(['Open','High','Low','Close','Adj Close','Volume','Gross Return','Net Retrun'],axis=1)\n",
        "print(data_final)\n",
        "data_final = pd.Series(data_final['log Return'])\n",
        "print(type(data_final))\n",
        "print(data_final)\n",
        "\n",
        "def check_stationarity(data):\n",
        "    roll_mean = data.rolling(20).mean()\n",
        "    roll_std = data.rolling(5).std()\n",
        "    \n",
        "    fig = plt.figure(figsize=(20,10))\n",
        "    plt.subplot(211)\n",
        "    plt.plot(data,color='black',label='Log Return')\n",
        "    plt.plot(roll_mean,color='red',label='20 days Log Return Mean')\n",
        "    plt.legend()\n",
        "    plt.subplot(212)\n",
        "    plt.plot(roll_std,color='green',label='5 days Log Return Std Deviation')\n",
        "    \n",
        "    print('Stationarity Test\\n')\n",
        "    test = adfuller(data,regresults=False)\n",
        "    print(test)\n",
        "    result = pd.Series(test[0:4],index=['Test Statustic','p-value','# of lags','# of obs'])\n",
        "    print(result)\n",
        "    for k,v in test[4].items():\n",
        "        print('Critical value at %s: %1.5f' %(k,v))\n",
        "\n",
        "check_stationarity(data_final)\n",
        "\n",
        "data_final_diff = data_final-data_final.shift()\n",
        "data_final_diff.dropna(inplace=True)\n",
        "check_stationarity(data_final_diff)\n",
        "\n",
        "data_final_diff2 = data_final-2*data_final.shift()-data_final.shift(2)\n",
        "data_final_diff2.dropna(inplace=True)\n",
        "check_stationarity(data_final_diff2)\n",
        "\n",
        "from statsmodels.tsa.stattools import acf,pacf\n",
        "data_acf = acf(data_final_diff)\n",
        "data_pacf = pacf(data_final_diff)\n",
        "\n",
        "import statsmodels.api as sm\n",
        "fig1 = plt.figure(figsize=(20,10))\n",
        "ax1 = fig1.add_subplot(211)\n",
        "fig1 = sm.graphics.tsa.plot_acf(data_acf,ax=ax1)\n",
        "ax2 = fig1.add_subplot(212)\n",
        "fig1 = sm.graphics.tsa.plot_pacf(data_pacf,ax=ax2)\n",
        "\n",
        "#ARIMA(2,1,0)#\n",
        "ARIMA = ARIMA(data_final_diff2,(2,0,0))\n",
        "fit_ARIMA = ARIMA.fit(full_output=True)\n",
        "predictions = ARIMA.predict(fit_ARIMA.params,start=239,end=242)\n",
        "print(fit_ARIMA.summary())\n",
        "predictions\n",
        "fit_ARIMA.predict(start=245,end=248)"
      ],
      "execution_count": null,
      "outputs": []
    }
  ]
}