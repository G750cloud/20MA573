{
  "nbformat": 4,
  "nbformat_minor": 0,
  "metadata": {
    "colab": {
      "name": "Final Project Value American put option by LSA.ipynb",
      "provenance": [],
      "authorship_tag": "ABX9TyPLikkhliWAkiltmokr5JSt",
      "include_colab_link": true
    },
    "kernelspec": {
      "name": "python3",
      "display_name": "Python 3"
    }
  },
  "cells": [
    {
      "cell_type": "markdown",
      "metadata": {
        "id": "view-in-github",
        "colab_type": "text"
      },
      "source": [
        "<a href=\"https://colab.research.google.com/github/G750cloud/20MA573/blob/master/Final_Project_Value_American_put_option_by_LSA.ipynb\" target=\"_parent\"><img src=\"https://colab.research.google.com/assets/colab-badge.svg\" alt=\"Open In Colab\"/></a>"
      ]
    },
    {
      "cell_type": "code",
      "metadata": {
        "id": "Y6gZi6zbODgz",
        "colab_type": "code",
        "colab": {
          "base_uri": "https://localhost:8080/",
          "height": 272
        },
        "outputId": "2ac1ed1f-cdbe-4cbc-e2bf-64b32e0b176a"
      },
      "source": [
        "#Asian Put Option#\n",
        "import numpy as np\n",
        "import pandas as pd\n",
        "import scipy\n",
        "\n",
        "def L0(x):\n",
        "    ret = np.exp(-x/2)\n",
        "    ret[ret == 1] = 0\n",
        "    return ret\n",
        "\n",
        "def L1(x):\n",
        "    ret = np.exp(-x/2) * (1-x)\n",
        "    ret[ret == 1] = 0\n",
        "    return ret\n",
        "\n",
        "def L2(x):\n",
        "    ret = np.exp(-x/2) * (1 - 2*x + (x**2)/2)\n",
        "    ret[ret == 1] = 0\n",
        "    return ret\n",
        "\n",
        "def linear(x1,x2,x3,a1,a2,a3):\n",
        "    return x1*a1 + x2*a2 + x3*a3\n",
        "\n",
        "def fit_reg_ls(x, y):\n",
        "    l0 = L0(x)\n",
        "    l1 = L1(x)\n",
        "    l2 = L2(x)\n",
        "\n",
        "    x_stack = np.stack((l0, l1, l2), axis=1)\n",
        "\n",
        "    a1, a2, a3 = np.linalg.lstsq(x_stack, y)[0]\n",
        "\n",
        "    return linear(l0,l1,l2,a1,a2,a3)\n",
        "\n",
        "def payoff(S, K):\n",
        "    payoff = K-S\n",
        "    payoff[payoff < 0] = 0\n",
        "    return payoff\n",
        "\n",
        "def determine_exercise(S, curr_payoff_matrix, delta, r, K):\n",
        "    padding = curr_payoff_matrix.shape[1]\n",
        "    discounts = 0.94176\n",
        "\n",
        "    St = np.array([v if K-v > 0 else 0 for v in S])\n",
        "    Pt_related = np.asarray([curr_payoff_matrix[i,:] if v > 0 else np.zeros(padding) for i, v in enumerate(St)])\n",
        "    y = np.sum(Pt_related * discounts, axis=1)\n",
        "\n",
        "    y_hat = fit_reg_ls(St, y)\n",
        "    Pt = payoff(S, K)\n",
        "    P_continuation = y_hat\n",
        "\n",
        "    payoff_t = np.array([])\n",
        "    for i in range(len(Pt)):\n",
        "        if Pt[i] > P_continuation[i]:\n",
        "            # Immediately exercise\n",
        "            payoff_t = np.append(payoff_t, Pt[i])\n",
        "\n",
        "            # Erase previously added payoff\n",
        "            curr_payoff_matrix[i,:][curr_payoff_matrix[i,:] > 0] = 0\n",
        "\n",
        "        else:\n",
        "            # Do not exercise, keep it for future\n",
        "            payoff_t = np.append(payoff_t, 0)\n",
        "\n",
        "    curr_payoff_matrix = np.c_[payoff_t.reshape(-1,1), curr_payoff_matrix]\n",
        "\n",
        "    return curr_payoff_matrix\n",
        "\n",
        "def backward_computation(S_paths, r, K, T, delta):\n",
        "    \n",
        "    # Amount of time intervals\n",
        "    N = T/delta\n",
        "\n",
        "    # Backward looping\n",
        "    for n in np.arange(N,0,-1):\n",
        "        n = int(n)\n",
        "        print('..... Currently at timestep {} ......'.format(n))\n",
        "        S = S_paths[:,n]\n",
        "        if n == N:\n",
        "            # At expiration, payoff matrix would be the immediate exercise value at T\n",
        "            Mpayoff = payoff(S, K).reshape(-1,1)\n",
        "        else:\n",
        "            Mpayoff = determine_exercise(S, Mpayoff, delta, r, K)\n",
        "\n",
        "    return Mpayoff\n",
        "\n",
        "def valuation(payoff, delta, r):\n",
        "    \n",
        "    M, N = payoff.shape\n",
        "    discounts = np.exp([-(i+1)*r*delta for i in range(N)])\n",
        "\n",
        "    value = np.sum(payoff * discounts)/M\n",
        "\n",
        "    return (value)\n",
        "\n",
        "S_paths = np.array([[1,1.09,1.08,1.34],[1,1.16,1.26,1.54],[1,1.22,1.07,1.03],[1,0.93,0.97,0.92],[1,1.11,1.56,1.52],[1,0.76,0.77,0.9],[1,0.92,0.84,1.01],[1,0.88,1.22,1.34]])\n",
        "r = 0.06\n",
        "K = 1.1\n",
        "T = 3\n",
        "delta = 1\n",
        "\n",
        "aa = backward_computation(S_paths, r, K, T, delta)\n",
        "print(aa)\n",
        "valuation(aa, 1, 0.06)"
      ],
      "execution_count": 1,
      "outputs": [
        {
          "output_type": "stream",
          "text": [
            "..... Currently at timestep 3 ......\n",
            "..... Currently at timestep 2 ......\n",
            "..... Currently at timestep 1 ......\n",
            "[[0.   0.   0.  ]\n",
            " [0.   0.   0.  ]\n",
            " [0.   0.   0.07]\n",
            " [0.17 0.   0.  ]\n",
            " [0.   0.   0.  ]\n",
            " [0.34 0.   0.  ]\n",
            " [0.18 0.   0.  ]\n",
            " [0.22 0.   0.  ]]\n"
          ],
          "name": "stdout"
        },
        {
          "output_type": "stream",
          "text": [
            "/usr/local/lib/python3.6/dist-packages/ipykernel_launcher.py:30: FutureWarning: `rcond` parameter will change to the default of machine precision times ``max(M, N)`` where M and N are the input matrix dimensions.\n",
            "To use the future default and silence this warning we advise to pass `rcond=None`, to keep using the old, explicitly pass `rcond=-1`.\n"
          ],
          "name": "stderr"
        },
        {
          "output_type": "execute_result",
          "data": {
            "text/plain": [
              "0.11443433004505697"
            ]
          },
          "metadata": {
            "tags": []
          },
          "execution_count": 1
        }
      ]
    }
  ]
}