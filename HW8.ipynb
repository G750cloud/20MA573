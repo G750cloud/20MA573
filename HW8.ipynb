{
  "nbformat": 4,
  "nbformat_minor": 0,
  "metadata": {
    "colab": {
      "name": "HW8.ipynb",
      "provenance": [],
      "authorship_tag": "ABX9TyOptgJY9F+ijTy1lREZ5F2Q",
      "include_colab_link": true
    },
    "kernelspec": {
      "name": "python3",
      "display_name": "Python 3"
    }
  },
  "cells": [
    {
      "cell_type": "markdown",
      "metadata": {
        "id": "view-in-github",
        "colab_type": "text"
      },
      "source": [
        "<a href=\"https://colab.research.google.com/github/G750cloud/20MA573/blob/master/HW8.ipynb\" target=\"_parent\"><img src=\"https://colab.research.google.com/assets/colab-badge.svg\" alt=\"Open In Colab\"/></a>"
      ]
    },
    {
      "cell_type": "markdown",
      "metadata": {
        "id": "30G8SB8C4lA8",
        "colab_type": "text"
      },
      "source": [
        "Claim delta is equal to 10^-10 when h=1/5"
      ]
    },
    {
      "cell_type": "code",
      "metadata": {
        "id": "ktuWz0JM2-x5",
        "colab_type": "code",
        "outputId": "4b40eaad-4398-4aa5-c5ea-b3e46e46f5b9",
        "colab": {
          "base_uri": "https://localhost:8080/",
          "height": 346
        }
      },
      "source": [
        "import numpy as np\n",
        "from numpy.linalg import inv\n",
        "import matplotlib.pyplot as plt\n",
        "e=10**(-10)\n",
        "r=25\n",
        "s=50+1/e\n",
        "t=25\n",
        "\n",
        "x = [0,1/5,2/5,3/5,4/5,1]\n",
        "Lh = np.array([[1,0,0,0,0,0],[-r,s,-t,0,0,0],[0,-r,s,-t,0,0],[0,0,-r,s,-t,0],[0,0,0,-r,s,-t],[0,0,0,0,0,1]])\n",
        "Rfh = np.array([[0],[1/5*(1/e)],[2/5*(1/e)],[3/5*(1/e)],[4/5*(1/e)],[0]])\n",
        "Lh_inv = np.linalg.inv(Lh)\n",
        "u1 = np.dot(Lh_inv,Rfh)\n",
        "u2 = np.transpose(u1)\n",
        "print(u2)\n",
        "\n",
        "\n",
        "\n",
        "def uu(N):\n",
        "    result = N-(np.exp((N-1)/np.sqrt(e))-np.exp(-(N+1)/np.sqrt(e)))/(1-np.exp(-2/np.sqrt(e))) \n",
        "    return result\n",
        "\n",
        "y_co = [uu(i) for i in x]\n",
        "print(y_co)\n",
        "plt.plot(x, u2[0],'o',label ='numerical method' )\n",
        "plt.plot(x, y_co,label ='real value')\n",
        "plt.ylabel('u')\n",
        "plt.xlabel('x')\n",
        "plt.legend()\n",
        "\n"
      ],
      "execution_count": 4,
      "outputs": [
        {
          "output_type": "stream",
          "text": [
            "[[1.84889275e-25 2.00000000e-01 4.00000000e-01 6.00000000e-01\n",
            "  7.99999998e-01 0.00000000e+00]]\n",
            "[0.0, 0.2, 0.4, 0.6, 0.8, 0.0]\n"
          ],
          "name": "stdout"
        },
        {
          "output_type": "execute_result",
          "data": {
            "text/plain": [
              "<matplotlib.legend.Legend at 0x7faa6f9b6e48>"
            ]
          },
          "metadata": {
            "tags": []
          },
          "execution_count": 4
        },
        {
          "output_type": "display_data",
          "data": {
            "image/png": "[encoded data removed]",
            "text/plain": [
              "<Figure size 432x288 with 1 Axes>"
            ]
          },
          "metadata": {
            "tags": []
          }
        }
      ]
    },
    {
      "cell_type": "code",
      "metadata": {
        "id": "aFutFDAen77D",
        "colab_type": "code",
        "colab": {}
      },
      "source": [
        ""
      ],
      "execution_count": 0,
      "outputs": []
    }
  ]
}